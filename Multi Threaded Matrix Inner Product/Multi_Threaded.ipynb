{
 "cells": [
  {
   "cell_type": "code",
   "execution_count": 33,
   "metadata": {},
   "outputs": [],
   "source": [
    "import ray\n",
    "import time\n",
    "import numpy as np"
   ]
  },
  {
   "cell_type": "code",
   "execution_count": 34,
   "metadata": {},
   "outputs": [],
   "source": [
    "# ray.init()"
   ]
  },
  {
   "cell_type": "code",
   "execution_count": 35,
   "metadata": {},
   "outputs": [
    {
     "name": "stdout",
     "output_type": "stream",
     "text": [
      "[[1 2 3]\n",
      " [4 5 6]\n",
      " [7 8 9]]\n",
      "[[1 2 3]\n",
      " [4 5 6]\n",
      " [7 8 9]]\n"
     ]
    }
   ],
   "source": [
    "matrix_A = np.array([[1,2,3], [4,5,6], [7,8,9]])\n",
    "matrix_B = np.array([[1,2,3], [4,5,6], [7,8,9]])\n",
    "# matrix_C = np.zeros((3,3))\n",
    "print(matrix_A)\n",
    "print(matrix_B)\n",
    "# print(matrix_C)"
   ]
  },
  {
   "cell_type": "code",
   "execution_count": 36,
   "metadata": {},
   "outputs": [],
   "source": [
    "@ray.remote\n",
    "def my_function(data):\n",
    "    matrix_A, matrix_B, i = data\n",
    "    matrix_C_element = 0\n",
    "    x = i % 3\n",
    "    y = i // 3\n",
    "    matrix_C_element = matrix_A[x][y] + matrix_B[x][y]\n",
    "    # time.sleep(2)\n",
    "    # print(matrix_A)\n",
    "    # print(matrix_B)\n",
    "    # print(matrix_C)\n",
    "    return(matrix_C_element)  "
   ]
  },
  {
   "cell_type": "code",
   "execution_count": 37,
   "metadata": {},
   "outputs": [
    {
     "name": "stdout",
     "output_type": "stream",
     "text": [
      "[[ 2.  4.  6.]\n",
      " [ 8. 10. 12.]\n",
      " [14. 16. 18.]]\n"
     ]
    }
   ],
   "source": [
    "total_numbers = 9\n",
    "numbers = []\n",
    "for i in range(total_numbers):\n",
    "    numbers.append(i)\n",
    "\n",
    "result_ids = []\n",
    "for i in numbers:\n",
    "    data = (matrix_A, matrix_B, i)\n",
    "    result_ids.append(my_function.remote(data))\n",
    "\n",
    "results = []\n",
    "for i in numbers:\n",
    "    results.append(ray.get(result_ids[i]))\n",
    "\n",
    "matrix_C = np.zeros((3,3))\n",
    "\n",
    "for i in range(3):\n",
    "    for j in range(3):\n",
    "        matrix_C[i][j] = results[j*3 + i]\n",
    "\n",
    "print(matrix_C)\n"
   ]
  },
  {
   "cell_type": "code",
   "execution_count": 38,
   "metadata": {},
   "outputs": [
    {
     "name": "stdout",
     "output_type": "stream",
     "text": [
      "[[ 30.  36.  42.]\n",
      " [ 66.  81.  96.]\n",
      " [102. 126. 150.]]\n"
     ]
    }
   ],
   "source": [
    "#Assigment change the code from adding both matrices to multiplying both\n",
    "\n",
    "import numpy as np\n",
    "import ray\n",
    "\n",
    "@ray.remote\n",
    "def my_function(data):\n",
    "    matrix_A, matrix_B, i = data\n",
    "    x = i % 3\n",
    "    y = i // 3\n",
    "    matrix_C_element = 0\n",
    "    for k in range(3):\n",
    "        matrix_C_element += matrix_A[x][k] * matrix_B[k][y]\n",
    "    return matrix_C_element\n",
    "\n",
    "# Define matrices A and B\n",
    "matrix_A = np.array([[1, 2, 3], [4, 5, 6], [7, 8, 9]])\n",
    "matrix_B = np.array([[1, 2, 3], [4, 5, 6], [7, 8, 9]])\n",
    "\n",
    "# Define the total number of elements in the matrices\n",
    "total_numbers = 9\n",
    "numbers = list(range(total_numbers))\n",
    "\n",
    "# Execute the matrix multiplication \n",
    "result_ids = []\n",
    "for i in numbers:\n",
    "    data = (matrix_A, matrix_B, i)\n",
    "    result_ids.append(my_function.remote(data))\n",
    "\n",
    "# Gather results\n",
    "results = ray.get(result_ids)\n",
    "\n",
    "# Create matrix C for storing the result\n",
    "matrix_C = np.zeros((3, 3))\n",
    "\n",
    "# Fill matrix C with values\n",
    "for i in range(3):\n",
    "    for j in range(3):\n",
    "        matrix_C[i][j] = results[j * 3 + i]\n",
    "\n",
    "print(matrix_C)\n",
    "\n"
   ]
  },
  {
   "cell_type": "code",
   "execution_count": 45,
   "metadata": {},
   "outputs": [
    {
     "name": "stdout",
     "output_type": "stream",
     "text": [
      "[[100. 100. 100. ... 100. 100. 100.]\n",
      " [100. 100. 100. ... 100. 100. 100.]\n",
      " [100. 100. 100. ... 100. 100. 100.]\n",
      " ...\n",
      " [100. 100. 100. ... 100. 100. 100.]\n",
      " [100. 100. 100. ... 100. 100. 100.]\n",
      " [100. 100. 100. ... 100. 100. 100.]]\n"
     ]
    }
   ],
   "source": [
    "#Assigment change the code from adding both matrices to multiplying both\n",
    "\n",
    "import numpy as np\n",
    "import ray\n",
    "dim = 100\n",
    "\n",
    "@ray.remote\n",
    "def my_function(data):\n",
    "    matrix_A, matrix_B, i = data\n",
    "    x = i % dim\n",
    "    y = i // dim\n",
    "    matrix_C_element = 0\n",
    "    for k in range(dim):\n",
    "        matrix_C_element += matrix_A[x][k] * matrix_B[k][y]\n",
    "    return matrix_C_element\n",
    "\n",
    "# Define matrices A and B\n",
    "matrix_A = np.ones((dim, dim))\n",
    "matrix_B = np.ones((dim, dim))\n",
    "\n",
    "# Define the total number of elements in the matrices\n",
    "total_numbers = dim * dim\n",
    "numbers = list(range(total_numbers))\n",
    "\n",
    "# Execute the matrix multiplication \n",
    "result_ids = []\n",
    "for i in numbers:\n",
    "    data = (matrix_A, matrix_B, i)\n",
    "    result_ids.append(my_function.remote(data))\n",
    "\n",
    "# Gather results\n",
    "results = ray.get(result_ids)\n",
    "\n",
    "# Create matrix C for storing the result\n",
    "matrix_C = np.zeros((dim, dim))\n",
    "\n",
    "# Fill matrix C with values\n",
    "for i in range(dim):\n",
    "    for j in range(dim):\n",
    "        matrix_C[i][j] = results[j * dim + i]\n",
    "\n",
    "print(matrix_C)\n"
   ]
  }
 ],
 "metadata": {
  "kernelspec": {
   "display_name": "base",
   "language": "python",
   "name": "python3"
  },
  "language_info": {
   "codemirror_mode": {
    "name": "ipython",
    "version": 3
   },
   "file_extension": ".py",
   "mimetype": "text/x-python",
   "name": "python",
   "nbconvert_exporter": "python",
   "pygments_lexer": "ipython3",
   "version": "3.10.9"
  },
  "orig_nbformat": 4
 },
 "nbformat": 4,
 "nbformat_minor": 2
}
